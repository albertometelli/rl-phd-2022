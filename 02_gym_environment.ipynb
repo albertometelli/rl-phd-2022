{
 "cells": [
  {
   "cell_type": "markdown",
   "metadata": {
    "colab_type": "text",
    "id": "view-in-github"
   },
   "source": [
    "<a href=\"https://colab.research.google.com/github/albertometelli/rl-phd-2022/blob/main/02_gym_environment.ipynb\" target=\"_parent\"><img src=\"https://colab.research.google.com/assets/colab-badge.svg\" alt=\"Open In Colab\"/></a>"
   ]
  },
  {
   "cell_type": "markdown",
   "metadata": {
    "colab_type": "text",
    "id": "AoxOjIlOImwx"
   },
   "source": [
    "# Build a Gym Environment\n",
    "\n",
    "This notebook is inspired to the Stable Baselines3 tutorial available at [https://github.com/araffin/rl-tutorial-jnrr19](https://github.com/araffin/rl-tutorial-jnrr19).\n",
    "\n",
    "\n",
    "## Introduction\n",
    "\n",
    "In this notebook, we will learn how to build a customized environment with **Open AI Gym**.\n",
    "\n",
    "### Links\n",
    "\n",
    "Open AI Gym Github: [https://github.com/openai/gym](https://github.com/openai/gym)\n",
    "\n",
    "Open AI Gym Documentation: [https://www.gymlibrary.ml](https://www.gymlibrary.ml)\n",
    "\n",
    "Stable Baselines 3 Github:[https://github.com/DLR-RM/stable-baselines3](https://github.com/DLR-RM/stable-baselines3)\n",
    "\n",
    "Stable Baseline 3 Documentation: [https://stable-baselines3.readthedocs.io/en/master/](https://stable-baselines3.readthedocs.io/en/master/)\n",
    "\n",
    "## Install Dependencies and Stable Baselines3 Using Pip"
   ]
  },
  {
   "cell_type": "code",
   "execution_count": null,
   "metadata": {
    "colab": {},
    "colab_type": "code",
    "id": "Sp8rSS4DIhEV"
   },
   "outputs": [],
   "source": [
    "!apt-get install ffmpeg freeglut3-dev xvfb  # For visualization\n",
    "!pip install stable-baselines3[extra]"
   ]
  },
  {
   "cell_type": "code",
   "execution_count": null,
   "metadata": {},
   "outputs": [],
   "source": [
    "import stable_baselines3\n",
    "stable_baselines3.__version__"
   ]
  },
  {
   "cell_type": "markdown",
   "metadata": {},
   "source": [
    "## Evaluation\n",
    "\n",
    "A helper function to evaluate policies."
   ]
  },
  {
   "cell_type": "code",
   "execution_count": null,
   "metadata": {},
   "outputs": [],
   "source": [
    "def evaluate(env, policy, gamma=1., num_episodes=100):\n",
    "    \"\"\"\n",
    "    Evaluate a RL agent\n",
    "    :param env: (Env object) the Gym environment\n",
    "    :param policy: (BasePolicy object) the policy in stable_baselines3\n",
    "    :param gamma: (float) the discount factor\n",
    "    :param num_episodes: (int) number of episodes to evaluate it\n",
    "    :return: (float) Mean reward for the last num_episodes\n",
    "    \"\"\"\n",
    "    discounter = 1.\n",
    "    all_episode_rewards = []\n",
    "    for i in range(num_episodes): # iterate over the episodes\n",
    "        episode_rewards = []\n",
    "        done = False\n",
    "        obs = env.reset()\n",
    "        while not done: # iterate over the steps until termination\n",
    "            action, _ = policy.predict(obs)\n",
    "            obs, reward, done, info = env.step(action)\n",
    "            episode_rewards.append(reward * discounter) # compute discounted reward\n",
    "            discounter *= gamma\n",
    "\n",
    "        all_episode_rewards.append(sum(episode_rewards))\n",
    "\n",
    "    mean_episode_reward = np.mean(all_episode_rewards)\n",
    "    std_episode_reward = np.std(all_episode_rewards) / np.sqrt(num_episodes - 1)\n",
    "    print(\"Mean reward:\", mean_episode_reward, \n",
    "          \"Std reward:\", std_episode_reward,\n",
    "          \"Num episodes:\", num_episodes)\n",
    "\n",
    "    return mean_episode_reward, std_episode_reward"
   ]
  },
  {
   "cell_type": "markdown",
   "metadata": {},
   "source": [
    "## Plotting\n",
    "\n",
    "A helper function to plot the learning curves."
   ]
  },
  {
   "cell_type": "code",
   "execution_count": null,
   "metadata": {},
   "outputs": [],
   "source": [
    "import matplotlib.pyplot as plt\n",
    "\n",
    "\n",
    "def plot_results(results):\n",
    "    plt.figure()\n",
    "    \n",
    "    for k in results.keys():\n",
    "        data = np.load(results[k] + '/evaluations.npz')\n",
    "        ts = data['timesteps']\n",
    "        res = data['results']\n",
    "        _mean, _std = res.mean(axis=1), res.std(axis=1)\n",
    "\n",
    "        plt.plot(ts, _mean, label=k)\n",
    "        plt.fill_between(ts, _mean-_std, _mean+_std, alpha=.2)\n",
    "        \n",
    "    plt.xlabel('Timesteps')\n",
    "    plt.ylabel('Average return')\n",
    "    plt.legend(loc='lower right')\n",
    "    \n",
    "    plt.show()"
   ]
  },
  {
   "cell_type": "markdown",
   "metadata": {},
   "source": [
    "## The Minigolf Environment\n",
    "\n",
    "The `Minigolf` environment models a simple problem in which the agent has to hit a ball on a green using a putter in order to reach the hole with the minimum amount of moves. \n",
    "\n",
    "* The green is characterized by a **friction** $f$ that is selected uniformly random at the beginning of each episode in the interval `[0.065, 0.196]` and does not change during the episode. \n",
    "* The **position** of the ball is represented by a unidimensional variable $x_t$ that is initialized uniformly random in the interval `[1,20]`. The observation is made of the pair $s_t = (x_t,f)$. \n",
    "* The **action** $a_t$ is the force applied to the putter and has to be bounded in the interval `[1e-5,5]`. Before being applied the action is subject to a Gaussian noise, so that the actual action $u_t$ applied is given by:\n",
    "\n",
    "$$\n",
    "u_t = a_t + \\epsilon \\qquad \\text{where} \\qquad \\epsilon \\sim \\mathcal{N}(0,\\sigma^2),\n",
    "$$\n",
    "where $\\sigma =0.1$. The movement of the ball is governed by the kinematic law:\n",
    "\n",
    "$$\n",
    "x_{t+1} = x_{t} - v_t \\tau_t + \\frac{1}{2} d \\tau_t^2\n",
    "$$\n",
    "\n",
    "where:\n",
    "* $v_t$ is the velocity computed as $v_t = u_t l$,\n",
    "* $d$ is the deceleration computed as $d = \\frac{5}{7} fg$,\n",
    "* $\\tau_t$ is the time interval computed as $\\tau_t = \\frac{v_t}{d}$. \n",
    "\n",
    "The remaining constants are the putter length $l = 1$ and the gravitational acceleration $g=9.81$. The **episode** terminates when the next state is such that the ball enters or surpasses (without entering) the hole. The **reward** is `-1` at every step and `-100` if the ball surpasses the hole. To check whether the ball will not reach, enter, or surpass the hole, refer to the following condition:\n",
    "\n",
    "\\begin{align*}\n",
    "&v_t < v_{\\min} \\implies \\text{ball does not reach the hole} \\\\\n",
    "&v_t > v_{\\max} \\implies \\text{ball surpasses the hole} \\\\\n",
    "&\\text{otherwise} \\implies \\text{ball enters the hole}\n",
    "\\end{align*}\n",
    "\n",
    "where\n",
    "\n",
    "\\begin{align*}\n",
    "& v_\\min = \\sqrt{\\frac{10}{7} fgx_t}\n",
    "& v_\\max = \\sqrt{ \\frac{g(2 h - \\rho)^2}{2r} + v_\\min^2},\n",
    "\\end{align*}\n",
    "where $h = 0.1$ is the hole size and $\\rho = 0.02135$ is the ball radius.\n",
    "\n",
    "\n",
    "**References**\n",
    "\n",
    "Penner, A. R. \"The physics of putting.\" Canadian Journal of Physics 80.2 (2002): 83-96."
   ]
  },
  {
   "cell_type": "markdown",
   "metadata": {},
   "source": [
    "## Exercise 1\n",
    "\n",
    "Complete the constructor `__init__`, methods `reset` and `step` based on the environment description provided above."
   ]
  },
  {
   "cell_type": "code",
   "execution_count": null,
   "metadata": {},
   "outputs": [],
   "source": [
    "import gym\n",
    "import numpy as np\n",
    "from gym.spaces import Box\n",
    "\n",
    "class Minigolf(gym.Env):\n",
    "    \"\"\"\n",
    "    The Minigolf problem.\n",
    "    \n",
    "    \"\"\"\n",
    "\n",
    "    def __init__(self):\n",
    "        super(Minigolf, self).__init__()\n",
    "        \n",
    "        # Constants\n",
    "        self.min_pos, self.max_pos = 1.0, 20.0\n",
    "        self.min_action, self.max_action = 1e-5, 5.0\n",
    "        self.min_friction, self.max_friction = 0.065, 0.196\n",
    "        self.putter_length = 1.0\n",
    "        self.hole_size = 0.10\n",
    "        self.sigma_noise = 0.1\n",
    "        self.ball_radius = 0.02135\n",
    "        \n",
    "        \n",
    "        self.action_space = # TODO\n",
    "        self.observation_space = # TODO\n",
    "                                                    \n",
    "            \n",
    "    def step(self, action):\n",
    "        \n",
    "        #Retrieve the state components\n",
    "        x, friction = self.state\n",
    "\n",
    "        # Clip the action within the allowed range\n",
    "        action = np.clip(action, self.min_action, self.max_action)\n",
    "\n",
    "        # TODO Add noise to the action\n",
    "        # TODO Compute the speed\n",
    "\n",
    "        # Compute the speed limits\n",
    "        v_min = np.sqrt(10 / 7 * friction * 9.81 * x)\n",
    "        v_max = np.sqrt((2 * self.hole_size - self.ball_radius) ** 2 \\\n",
    "                        * (9.81 / (2 * self.ball_radius)) + v_min ** 2)\n",
    "\n",
    "        # TODO Compute the deceleration\n",
    "        # TODO Compute the time interval\n",
    "        # TODO Update the position\n",
    "        \n",
    "        # Clip the position\n",
    "        x = np.clip(x, self.min_pos, self.max_pos)\n",
    "\n",
    "        # TODO Compute the reward and episode termination (done)\n",
    "            \n",
    "        self.state = np.array([x, friction]).astype(np.float32)\n",
    "\n",
    "        return self.state, reward, done, {}\n",
    "\n",
    "\n",
    "    def reset(self):\n",
    "        \n",
    "        x = friction = 0.\n",
    "\n",
    "        # TODO Random generation of initial position and friction\n",
    "\n",
    "        self.state = np.array([x, friction]).astype(np.float32)\n",
    "        \n",
    "        return self.state"
   ]
  },
  {
   "cell_type": "markdown",
   "metadata": {},
   "source": [
    "To be able to instance the environment with `gym.make`, we need to register the environment"
   ]
  },
  {
   "cell_type": "code",
   "execution_count": null,
   "metadata": {},
   "outputs": [],
   "source": [
    "from gym.envs.registration import register\n",
    "\n",
    "# Just in case you re-run the code\n",
    "if \"Minigolf-v1\" in gym.envs.registry.env_specs:\n",
    "    del gym.envs.registry.env_specs[\"Minigolf-v1\"]\n",
    "\n",
    "register(\n",
    "    id=\"Minigolf-v1\",\n",
    "    entry_point=\"__main__:Minigolf\",\n",
    "    max_episode_steps=20,\n",
    "    reward_threshold=0,\n",
    ")"
   ]
  },
  {
   "cell_type": "markdown",
   "metadata": {},
   "source": [
    "### Validate the environment\n",
    "\n",
    "Stable Baselines3 provides a [helper](https://stable-baselines3.readthedocs.io/en/master/common/env_checker.html) to check that our environment complies with the Gym interface."
   ]
  },
  {
   "cell_type": "code",
   "execution_count": null,
   "metadata": {},
   "outputs": [],
   "source": [
    "from stable_baselines3.common.env_checker import check_env\n",
    "\n",
    "env = Minigolf()\n",
    "\n",
    "# If the environment don't follow the interface, an error will be thrown\n",
    "check_env(env, warn=True)"
   ]
  },
  {
   "cell_type": "markdown",
   "metadata": {},
   "source": [
    "## Evaluate some simple Policies\n",
    "\n",
    "* **Do-nothing policy**: a policy plays the zero action.\n",
    "\n",
    "$$\n",
    "\\pi(s) = 0\n",
    "$$\n",
    "\n",
    "\n",
    "* **Max-action policy**: a policy that plays the maximum available actions.\n",
    "\n",
    "$$\n",
    "\\pi(s) = +\\infty\n",
    "$$\n",
    "\n",
    "\n",
    "* **Zero-mean Gaussian policy**: a policy that selects the action sampled from a Gaussian policy with zero mean and variance $\\sigma^2=1$\n",
    "\n",
    "$$\n",
    "\\pi(a|s) = \\mathcal{N}(0,\\sigma^2)\n",
    "$$"
   ]
  },
  {
   "cell_type": "code",
   "execution_count": null,
   "metadata": {},
   "outputs": [],
   "source": [
    "class DoNothingPolicy():\n",
    "    \n",
    "    def predict(self, obs):\n",
    "        return 0, obs\n",
    "\n",
    "\n",
    "class MaxActionPolicy():\n",
    "    \n",
    "    def predict(self, obs):\n",
    "        return np.inf, obs\n",
    "    \n",
    "\n",
    "class ZeroMeanGaussianPolicy():\n",
    "    \n",
    "    def predict(self, obs):\n",
    "        return np.random.randn(), obs"
   ]
  },
  {
   "cell_type": "code",
   "execution_count": null,
   "metadata": {},
   "outputs": [],
   "source": [
    "env = gym.make(\"Minigolf-v1\")\n",
    "\n",
    "do_nothing_policy = DoNothingPolicy()\n",
    "\n",
    "max_action_policy = MaxActionPolicy()\n",
    "\n",
    "gauss_policy = ZeroMeanGaussianPolicy()\n",
    "\n",
    "\n",
    "do_nothing_mean, do_nothing_std = evaluate(env, do_nothing_policy)\n",
    "max_action_mean, max_action_std = evaluate(env, max_action_policy)\n",
    "gauss_policy_mean, gauss_policy_std = evaluate(env, gauss_policy)"
   ]
  },
  {
   "cell_type": "markdown",
   "metadata": {},
   "source": [
    "## Train PPO, DDPG, and SAC\n",
    "\n",
    "We now train three algorithms suitable for environments with continuous actions: [Proximal Policy Optimization](https://stable-baselines3.readthedocs.io/en/master/modules/ppo.html), [Deep Deterministic Policy Gradient](https://stable-baselines3.readthedocs.io/en/master/modules/ddpg.html), and [Soft Actor Critic](https://stable-baselines3.readthedocs.io/en/master/modules/sac.html)."
   ]
  },
  {
   "cell_type": "code",
   "execution_count": null,
   "metadata": {},
   "outputs": [],
   "source": [
    "from stable_baselines3 import PPO, DDPG, SAC\n",
    "\n",
    "\n",
    "# Separate evaluation env\n",
    "eval_env = gym.make('Minigolf-v1')\n",
    "\n",
    "ppo = PPO(\"MlpPolicy\", env, verbose=1, policy_kwargs=dict(net_arch=[32]))\n",
    "ddpg = DDPG(\"MlpPolicy\", env, verbose=1, policy_kwargs=dict(net_arch=[32]))\n",
    "sac = SAC(\"MlpPolicy\", env, verbose=1, policy_kwargs=dict(net_arch=[32]))\n",
    "\n",
    "print('PPO')\n",
    "ppo.learn(total_timesteps=50000, eval_env=eval_env, \n",
    "          eval_log_path='./logs/minigolf/ppo', eval_freq=2048, log_interval=4)\n",
    "\n",
    "print('DDPG')\n",
    "ddpg.learn(total_timesteps=50000, eval_env=eval_env, \n",
    "          eval_log_path='./logs/minigolf/ddpg', eval_freq=2048, log_interval=1024)\n",
    "\n",
    "print('SAC')\n",
    "sac.learn(total_timesteps=50000, eval_env=eval_env, \n",
    "          eval_log_path='./logs/minigolf/sac', eval_freq=2048, log_interval=2048)"
   ]
  },
  {
   "cell_type": "markdown",
   "metadata": {},
   "source": [
    "We plot the learning curves."
   ]
  },
  {
   "cell_type": "code",
   "execution_count": null,
   "metadata": {},
   "outputs": [],
   "source": [
    "results = {'PPO': './logs/minigolf/ppo',\n",
    "           'DDPG': './logs/minigolf/ddpg',\n",
    "           'SAC': './logs/minigolf/sac'}\n",
    "        \n",
    "plot_results(results)"
   ]
  }
 ],
 "metadata": {
  "accelerator": "GPU",
  "colab": {
   "collapsed_sections": [],
   "include_colab_link": true,
   "name": "02. Gym Environment.ipynb",
   "provenance": []
  },
  "kernelspec": {
   "display_name": "Python 3",
   "language": "python",
   "name": "python3"
  },
  "language_info": {
   "codemirror_mode": {
    "name": "ipython",
    "version": 3
   },
   "file_extension": ".py",
   "mimetype": "text/x-python",
   "name": "python",
   "nbconvert_exporter": "python",
   "pygments_lexer": "ipython3",
   "version": "3.8.10"
  }
 },
 "nbformat": 4,
 "nbformat_minor": 1
}
